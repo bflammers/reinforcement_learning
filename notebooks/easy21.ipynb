{
 "cells": [
  {
   "cell_type": "code",
   "execution_count": 1,
   "id": "35eb3453",
   "metadata": {},
   "outputs": [],
   "source": [
    "%load_ext autoreload\n",
    "%autoreload 2"
   ]
  },
  {
   "cell_type": "code",
   "execution_count": 2,
   "id": "a2bf296e",
   "metadata": {},
   "outputs": [],
   "source": [
    "import numpy as np\n",
    "import pandas as pd"
   ]
  },
  {
   "cell_type": "code",
   "execution_count": 4,
   "id": "985cb2f3",
   "metadata": {},
   "outputs": [],
   "source": [
    "from environments.easy21 import EasyAction, EasyState, EasyEnvironment"
   ]
  },
  {
   "cell_type": "code",
   "execution_count": 5,
   "id": "852e0cb4",
   "metadata": {},
   "outputs": [],
   "source": [
    "# for plotting\n",
    "import matplotlib\n",
    "import matplotlib.pyplot as plt\n",
    "import matplotlib.animation as animation\n",
    "from mpl_toolkits.mplot3d import Axes3D\n",
    "from matplotlib import cm\n",
    "\n",
    "# visualize plots in the jupyter notebook\n",
    "# check more https://goo.gl/U3Ai8R\n",
    "%matplotlib inline"
   ]
  },
  {
   "cell_type": "code",
   "execution_count": 6,
   "id": "e95abfc1",
   "metadata": {},
   "outputs": [],
   "source": [
    "def plot_value_function(V, title='Value Function', generate_gif=False, train_steps=None):\n",
    "    \"\"\"\n",
    "    Plots a value function as a surface plot, like in: https://goo.gl/aF2doj\n",
    "\n",
    "    You can choose between just plotting the graph for the value function\n",
    "    which is the default behaviour (generate_gif=False) or to train the agent\n",
    "    a couple of times and save the frames in a gif as you train.\n",
    "\n",
    "    Args:\n",
    "        agent: An agent.\n",
    "        title (string): Plot title.\n",
    "        generate_gif (boolean): If want to save plots as a gif.\n",
    "        train_steps: If is not None and generate_gif = True, then will use this\n",
    "                     value as the number of steps to train the model at each frame.\n",
    "    \"\"\"\n",
    "    # you can change this values to change the size of the graph\n",
    "    fig = plt.figure(title, figsize=(10, 5))\n",
    "    \n",
    "    # explanation about this line: https://goo.gl/LH5E7i\n",
    "    ax = fig.add_subplot(111, projection='3d')\n",
    "    \n",
    "    def plot_frame(ax):\n",
    "        # min value allowed accordingly with the documentation is 1\n",
    "        # we're getting the max value from V dimensions\n",
    "        min_x = 1\n",
    "        max_x = V.shape[0]\n",
    "        min_y = 1\n",
    "        max_y = V.shape[1]\n",
    "\n",
    "        # creates a sequence from min to max\n",
    "        x_range = np.arange(min_x, max_x)\n",
    "        y_range = np.arange(min_y, max_y)\n",
    "\n",
    "        # creates a grid representation of x_range and y_range\n",
    "        X, Y = np.meshgrid(x_range, y_range)\n",
    "\n",
    "        # get value function for X and Y values\n",
    "        def get_stat_val(x, y):\n",
    "            return V[x, y]\n",
    "        Z = get_stat_val(X, Y)\n",
    "\n",
    "        # creates a surface to be ploted\n",
    "        # check documentation for details: https://goo.gl/etEhPP\n",
    "        ax.set_xlabel('Dealer Showing')\n",
    "        ax.set_ylabel('Player Sum')\n",
    "        ax.set_zlabel('Value')\n",
    "        return ax.plot_surface(X, Y, Z, rstride=1, cstride=1, cmap=cm.coolwarm, \n",
    "                               linewidth=0, antialiased=False)\n",
    "\n",
    "    surf = plot_frame(ax)\n",
    "    plt.title(title)\n",
    "    fig.canvas.draw()\n",
    "    plt.show()"
   ]
  },
  {
   "cell_type": "markdown",
   "id": "5824f99a",
   "metadata": {},
   "source": [
    "## Monte-carlo control"
   ]
  },
  {
   "cell_type": "code",
   "execution_count": 9,
   "id": "d4afb2da",
   "metadata": {},
   "outputs": [],
   "source": [
    "from environments.easy21 import DealerAgent, MCAgent, EpsilonGreedyPolicy"
   ]
  },
  {
   "cell_type": "code",
   "execution_count": 13,
   "id": "c22235d9",
   "metadata": {
    "scrolled": true
   },
   "outputs": [
    {
     "name": "stdout",
     "output_type": "stream",
     "text": [
      "Episode:          0/10000 ---   0.0%\n",
      "Field(name=None,type=None,default=<dataclasses._MISSING_TYPE object at 0x10a4b2be0>,default_factory=<function EasyState.<lambda> at 0x11934d940>,init=True,repr=True,hash=None,compare=True,metadata=mappingproxy({}),_field_type=None)-Field(name=None,type=None,default=<dataclasses._MISSING_TYPE object at 0x10a4b2be0>,default_factory=<function EasyState.<lambda> at 0x11934da60>,init=True,repr=True,hash=None,compare=True,metadata=mappingproxy({}),_field_type=None)-True\n"
     ]
    },
    {
     "ename": "NameError",
     "evalue": "name 'G' is not defined",
     "output_type": "error",
     "traceback": [
      "\u001b[0;31m---------------------------------------------------------------------------\u001b[0m",
      "\u001b[0;31mNameError\u001b[0m                                 Traceback (most recent call last)",
      "Input \u001b[0;32mIn [13]\u001b[0m, in \u001b[0;36m<cell line: 11>\u001b[0;34m()\u001b[0m\n\u001b[1;32m     24\u001b[0m     s, G \u001b[38;5;241m=\u001b[39m env\u001b[38;5;241m.\u001b[39mstep(a)\n\u001b[1;32m     26\u001b[0m     rewards\u001b[38;5;241m.\u001b[39mappend(G)\n\u001b[0;32m---> 28\u001b[0m agent\u001b[38;5;241m.\u001b[39moptimize(\u001b[43mG\u001b[49m)\n",
      "\u001b[0;31mNameError\u001b[0m: name 'G' is not defined"
     ]
    }
   ],
   "source": [
    "episodes = 10000\n",
    "\n",
    "rewards = []\n",
    "\n",
    "env = EasyEnvironment()\n",
    "\n",
    "agent = MCAgent(\n",
    "    policy=EpsilonGreedyPolicy(N_zero=100)\n",
    ")\n",
    "\n",
    "for i in range(episodes):\n",
    "    \n",
    "    if i % (round(episodes / 20)) == 0:\n",
    "        print(f\"Episode: {i:>10}/{episodes} --- {i/episodes*100:>5.1f}%\")\n",
    "    \n",
    "    env.reset()\n",
    "    s = env.get_state()\n",
    "    print(s.key)\n",
    "    \n",
    "    while not s.terminal:\n",
    "\n",
    "        # Take step, first agent using current state, then environment using action\n",
    "        a = agent.step(s)\n",
    "        s, G = env.step(a)\n",
    "        \n",
    "        rewards.append(G)\n",
    "    \n",
    "    agent.optimize(G)"
   ]
  },
  {
   "cell_type": "code",
   "execution_count": null,
   "id": "55df1e4c",
   "metadata": {},
   "outputs": [],
   "source": [
    "df = pd.DataFrame({\"key\": Q.r.keys(), \"q\": Q.r.values()})\n",
    "df[[\"Dealer showing\", \"Player sum\", \"terminated\", \"action\"]] = df[\"key\"].str.split(\"-\", expand=True).iloc[:, :4]\n",
    "df = df[[\"Dealer showing\", \"Player sum\", \"q\"]]\n",
    "df = df.groupby([\"Dealer showing\", \"Player sum\"]).max()\n",
    "df"
   ]
  },
  {
   "cell_type": "code",
   "execution_count": null,
   "id": "0a7ba6bd",
   "metadata": {},
   "outputs": [],
   "source": [
    "v = df.unstack()\n",
    "v = v.reset_index(drop=True)\n",
    "v"
   ]
  },
  {
   "cell_type": "code",
   "execution_count": null,
   "id": "37523f4a",
   "metadata": {},
   "outputs": [],
   "source": [
    "plot_value_function(v.values)"
   ]
  },
  {
   "cell_type": "code",
   "execution_count": null,
   "id": "0f53531c",
   "metadata": {},
   "outputs": [],
   "source": [
    "v_columns = v.columns.to_list()\n",
    "\n",
    "x_linspace = np.array(list(zip(*v_columns))[1], dtype=int)\n",
    "y_linspace = v.index.to_numpy()\n",
    "\n",
    "x, y = np.meshgrid(x_linspace, y_linspace)"
   ]
  },
  {
   "cell_type": "code",
   "execution_count": null,
   "id": "ead30fe4",
   "metadata": {},
   "outputs": [],
   "source": [
    "fig = plt.figure(figsize=(10, 5))\n",
    "    \n",
    "ax = fig.add_subplot(111, projection='3d')\n",
    "\n",
    "# Plot the surface.\n",
    "surf = ax.plot_surface(x, y, v.values, \n",
    "                       cmap=cm.coolwarm,\n",
    "                       rstride=1, cstride=1,\n",
    "                       linewidth=0, antialiased=False)\n",
    "\n",
    "ax.set_xlabel(\"Dealer showing\")\n",
    "ax.set_ylabel(\"Player sum\")\n",
    "\n",
    "plt.show()"
   ]
  },
  {
   "cell_type": "code",
   "execution_count": null,
   "id": "3e651e20",
   "metadata": {},
   "outputs": [],
   "source": [
    "print(x_linspace.shape, y_linspace.shape)\n",
    "x_linspace, y_linspace"
   ]
  },
  {
   "cell_type": "code",
   "execution_count": null,
   "id": "54344d1d",
   "metadata": {},
   "outputs": [],
   "source": [
    "x, y = np.meshgrid(x_linspace, y_linspace)\n",
    "print(x.shape, y.shape, v.transpose().values.shape)"
   ]
  },
  {
   "cell_type": "code",
   "execution_count": null,
   "id": "890f3717",
   "metadata": {},
   "outputs": [],
   "source": [
    "fig, ax = plt.subplots(subplot_kw={\"projection\": \"3d\"})\n",
    "\n",
    "\n",
    "# Plot the surface.\n",
    "surf = ax.plot_surface(x, y, v.transpose().values, \n",
    "                       cmap=cm.coolwarm,\n",
    "                       linewidth=0, antialiased=False)\n",
    "\n",
    "# Add a color bar which maps values to colors.\n",
    "fig.colorbar(surf, shrink=0.5, aspect=5)\n",
    "\n",
    "plt.show()"
   ]
  },
  {
   "cell_type": "code",
   "execution_count": null,
   "id": "b596434b",
   "metadata": {},
   "outputs": [],
   "source": []
  }
 ],
 "metadata": {
  "kernelspec": {
   "display_name": "rl",
   "language": "python",
   "name": "rl"
  },
  "language_info": {
   "codemirror_mode": {
    "name": "ipython",
    "version": 3
   },
   "file_extension": ".py",
   "mimetype": "text/x-python",
   "name": "python",
   "nbconvert_exporter": "python",
   "pygments_lexer": "ipython3",
   "version": "3.8.12"
  }
 },
 "nbformat": 4,
 "nbformat_minor": 5
}
