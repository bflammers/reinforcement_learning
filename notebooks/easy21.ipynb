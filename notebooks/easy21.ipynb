{
 "cells": [
  {
   "cell_type": "code",
   "execution_count": 1,
   "id": "649131e0",
   "metadata": {},
   "outputs": [],
   "source": [
    "%load_ext autoreload\n",
    "%autoreload 2"
   ]
  },
  {
   "cell_type": "code",
   "execution_count": 2,
   "id": "a2bf296e",
   "metadata": {},
   "outputs": [],
   "source": [
    "import numpy as np\n",
    "import pandas as pd\n",
    "\n",
    "from time import perf_counter\n",
    "from collections import deque"
   ]
  },
  {
   "cell_type": "code",
   "execution_count": 3,
   "id": "5df1e2f1",
   "metadata": {},
   "outputs": [],
   "source": [
    "from environments.easy21 import (\n",
    "    EasyAction, \n",
    "    EasyState, \n",
    "    EasyEnvironment,\n",
    "    DealerAgent, \n",
    "    MCAgent, \n",
    "    EpsilonGreedyPolicy\n",
    ")"
   ]
  },
  {
   "cell_type": "code",
   "execution_count": 4,
   "id": "852e0cb4",
   "metadata": {},
   "outputs": [],
   "source": [
    "# for plotting\n",
    "import matplotlib\n",
    "import matplotlib.pyplot as plt\n",
    "import matplotlib.animation as animation\n",
    "from mpl_toolkits.mplot3d import Axes3D\n",
    "from matplotlib import cm\n",
    "\n",
    "# visualize plots in the jupyter notebook\n",
    "# check more https://goo.gl/U3Ai8R\n",
    "%matplotlib inline"
   ]
  },
  {
   "cell_type": "code",
   "execution_count": 5,
   "id": "e95abfc1",
   "metadata": {},
   "outputs": [],
   "source": [
    "def plot_value_function(df_V, title=\"Value function\"):\n",
    "\n",
    "    fig = plt.figure(title, figsize=(10, 5))\n",
    "    ax = fig.add_subplot(111, projection='3d')\n",
    "    \n",
    "    # Prepare X and Y dimensions\n",
    "    x_linspace = df_V[\"Dealer showing\"]\n",
    "    y_linspace = np.array(df_V.columns[1:], dtype=int)\n",
    "    x, y = np.meshgrid(x_linspace, y_linspace)\n",
    "    \n",
    "    # Plot the surface.\n",
    "    surf = ax.plot_surface(x, y, df_V[:, 1:].to_numpy().transpose(), \n",
    "                           cmap=cm.coolwarm,\n",
    "                           rstride=1, cstride=1,\n",
    "                           linewidth=0, antialiased=False)\n",
    "\n",
    "    ax.set_xlabel(\"Dealer showing\")\n",
    "    ax.set_ylabel(\"Player sum\")\n",
    "\n",
    "    plt.show()"
   ]
  },
  {
   "cell_type": "markdown",
   "id": "5824f99a",
   "metadata": {},
   "source": [
    "## Monte-carlo control"
   ]
  },
  {
   "cell_type": "code",
   "execution_count": 6,
   "id": "d04be175",
   "metadata": {},
   "outputs": [],
   "source": [
    "episodes = 1000000\n",
    "n_checkpoints = 100\n",
    "\n",
    "episodes_per_checkpoint = round(episodes / 100)\n",
    "rewards = deque(maxlen=episodes_per_checkpoint)\n",
    "\n",
    "Vs = []\n",
    "\n",
    "env = EasyEnvironment()\n",
    "\n",
    "agent = MCAgent(\n",
    "    policy=EpsilonGreedyPolicy(N_zero=100)\n",
    ")"
   ]
  },
  {
   "cell_type": "code",
   "execution_count": 7,
   "id": "c22235d9",
   "metadata": {
    "scrolled": true
   },
   "outputs": [
    {
     "name": "stdout",
     "output_type": "stream",
     "text": [
      "Episode:          0/1000000 ---   0.0% --- mean reward:  0.00 --- elapsed:  0.0\n",
      "Episode:      10000/1000000 ---   1.0% --- mean reward: -0.04 --- elapsed:  2.5\n",
      "Episode:      20000/1000000 ---   2.0% --- mean reward: -0.02 --- elapsed:  2.7\n",
      "Episode:      30000/1000000 ---   3.0% --- mean reward:  0.00 --- elapsed:  2.8\n",
      "Episode:      40000/1000000 ---   4.0% --- mean reward:  0.02 --- elapsed:  2.8\n",
      "Episode:      50000/1000000 ---   5.0% --- mean reward:  0.03 --- elapsed:  2.4\n",
      "Episode:      60000/1000000 ---   6.0% --- mean reward:  0.02 --- elapsed:  2.2\n",
      "Episode:      70000/1000000 ---   7.0% --- mean reward:  0.03 --- elapsed:  2.2\n",
      "Episode:      80000/1000000 ---   8.0% --- mean reward:  0.04 --- elapsed:  2.4\n",
      "Episode:      90000/1000000 ---   9.0% --- mean reward:  0.05 --- elapsed:  2.3\n",
      "Episode:     100000/1000000 ---  10.0% --- mean reward:  0.04 --- elapsed:  2.5\n",
      "Episode:     110000/1000000 ---  11.0% --- mean reward:  0.04 --- elapsed:  2.3\n",
      "Episode:     120000/1000000 ---  12.0% --- mean reward:  0.04 --- elapsed:  2.4\n",
      "Episode:     130000/1000000 ---  13.0% --- mean reward:  0.05 --- elapsed:  2.2\n",
      "Episode:     140000/1000000 ---  14.0% --- mean reward:  0.04 --- elapsed:  2.2\n",
      "Episode:     150000/1000000 ---  15.0% --- mean reward:  0.04 --- elapsed:  2.1\n",
      "Episode:     160000/1000000 ---  16.0% --- mean reward:  0.03 --- elapsed:  2.2\n",
      "Episode:     170000/1000000 ---  17.0% --- mean reward:  0.04 --- elapsed:  2.6\n",
      "Episode:     180000/1000000 ---  18.0% --- mean reward:  0.04 --- elapsed:  2.5\n",
      "Episode:     190000/1000000 ---  19.0% --- mean reward:  0.05 --- elapsed:  2.2\n",
      "Episode:     200000/1000000 ---  20.0% --- mean reward:  0.06 --- elapsed:  2.2\n",
      "Episode:     210000/1000000 ---  21.0% --- mean reward:  0.06 --- elapsed:  2.2\n",
      "Episode:     220000/1000000 ---  22.0% --- mean reward:  0.02 --- elapsed:  2.3\n",
      "Episode:     230000/1000000 ---  23.0% --- mean reward:  0.05 --- elapsed:  2.2\n",
      "Episode:     240000/1000000 ---  24.0% --- mean reward:  0.03 --- elapsed:  2.3\n",
      "Episode:     250000/1000000 ---  25.0% --- mean reward:  0.04 --- elapsed:  2.3\n",
      "Episode:     260000/1000000 ---  26.0% --- mean reward:  0.03 --- elapsed:  2.2\n",
      "Episode:     270000/1000000 ---  27.0% --- mean reward:  0.05 --- elapsed:  2.1\n",
      "Episode:     280000/1000000 ---  28.0% --- mean reward:  0.05 --- elapsed:  2.1\n",
      "Episode:     290000/1000000 ---  29.0% --- mean reward:  0.04 --- elapsed:  2.2\n",
      "Episode:     300000/1000000 ---  30.0% --- mean reward:  0.03 --- elapsed:  2.1\n",
      "Episode:     310000/1000000 ---  31.0% --- mean reward:  0.04 --- elapsed:  2.1\n",
      "Episode:     320000/1000000 ---  32.0% --- mean reward:  0.04 --- elapsed:  2.2\n",
      "Episode:     330000/1000000 ---  33.0% --- mean reward:  0.04 --- elapsed:  2.1\n",
      "Episode:     340000/1000000 ---  34.0% --- mean reward:  0.03 --- elapsed:  2.1\n",
      "Episode:     350000/1000000 ---  35.0% --- mean reward:  0.04 --- elapsed:  2.2\n",
      "Episode:     360000/1000000 ---  36.0% --- mean reward:  0.04 --- elapsed:  2.2\n",
      "Episode:     370000/1000000 ---  37.0% --- mean reward:  0.05 --- elapsed:  2.3\n",
      "Episode:     380000/1000000 ---  38.0% --- mean reward:  0.06 --- elapsed:  2.1\n",
      "Episode:     390000/1000000 ---  39.0% --- mean reward:  0.06 --- elapsed:  2.1\n",
      "Episode:     400000/1000000 ---  40.0% --- mean reward:  0.04 --- elapsed:  2.2\n",
      "Episode:     410000/1000000 ---  41.0% --- mean reward:  0.05 --- elapsed:  2.2\n",
      "Episode:     420000/1000000 ---  42.0% --- mean reward:  0.04 --- elapsed:  2.4\n",
      "Episode:     430000/1000000 ---  43.0% --- mean reward:  0.03 --- elapsed:  2.3\n",
      "Episode:     440000/1000000 ---  44.0% --- mean reward:  0.04 --- elapsed:  2.2\n",
      "Episode:     450000/1000000 ---  45.0% --- mean reward:  0.06 --- elapsed:  2.2\n",
      "Episode:     460000/1000000 ---  46.0% --- mean reward:  0.04 --- elapsed:  2.2\n",
      "Episode:     470000/1000000 ---  47.0% --- mean reward:  0.07 --- elapsed:  2.1\n",
      "Episode:     480000/1000000 ---  48.0% --- mean reward:  0.04 --- elapsed:  2.4\n",
      "Episode:     490000/1000000 ---  49.0% --- mean reward:  0.07 --- elapsed:  2.5\n",
      "Episode:     500000/1000000 ---  50.0% --- mean reward:  0.05 --- elapsed:  2.2\n",
      "Episode:     510000/1000000 ---  51.0% --- mean reward:  0.04 --- elapsed:  2.0\n",
      "Episode:     520000/1000000 ---  52.0% --- mean reward:  0.04 --- elapsed:  2.3\n",
      "Episode:     530000/1000000 ---  53.0% --- mean reward:  0.03 --- elapsed:  2.2\n",
      "Episode:     540000/1000000 ---  54.0% --- mean reward:  0.04 --- elapsed:  2.3\n",
      "Episode:     550000/1000000 ---  55.0% --- mean reward:  0.07 --- elapsed:  2.3\n",
      "Episode:     560000/1000000 ---  56.0% --- mean reward:  0.03 --- elapsed:  2.3\n",
      "Episode:     570000/1000000 ---  57.0% --- mean reward:  0.04 --- elapsed:  2.5\n",
      "Episode:     580000/1000000 ---  58.0% --- mean reward:  0.05 --- elapsed:  2.2\n",
      "Episode:     590000/1000000 ---  59.0% --- mean reward:  0.05 --- elapsed:  2.1\n",
      "Episode:     600000/1000000 ---  60.0% --- mean reward:  0.05 --- elapsed:  2.1\n",
      "Episode:     610000/1000000 ---  61.0% --- mean reward:  0.04 --- elapsed:  2.1\n",
      "Episode:     620000/1000000 ---  62.0% --- mean reward:  0.04 --- elapsed:  2.3\n",
      "Episode:     630000/1000000 ---  63.0% --- mean reward:  0.03 --- elapsed:  2.3\n",
      "Episode:     640000/1000000 ---  64.0% --- mean reward:  0.05 --- elapsed:  2.3\n",
      "Episode:     650000/1000000 ---  65.0% --- mean reward:  0.06 --- elapsed:  2.0\n",
      "Episode:     660000/1000000 ---  66.0% --- mean reward:  0.04 --- elapsed:  2.0\n",
      "Episode:     670000/1000000 ---  67.0% --- mean reward:  0.05 --- elapsed:  2.3\n",
      "Episode:     680000/1000000 ---  68.0% --- mean reward:  0.05 --- elapsed:  2.5\n",
      "Episode:     690000/1000000 ---  69.0% --- mean reward:  0.03 --- elapsed:  2.2\n",
      "Episode:     700000/1000000 ---  70.0% --- mean reward:  0.05 --- elapsed:  2.2\n",
      "Episode:     710000/1000000 ---  71.0% --- mean reward:  0.04 --- elapsed:  2.6\n",
      "Episode:     720000/1000000 ---  72.0% --- mean reward:  0.05 --- elapsed:  2.1\n",
      "Episode:     730000/1000000 ---  73.0% --- mean reward:  0.05 --- elapsed:  2.6\n",
      "Episode:     740000/1000000 ---  74.0% --- mean reward:  0.04 --- elapsed:  3.0\n",
      "Episode:     750000/1000000 ---  75.0% --- mean reward:  0.05 --- elapsed:  2.6\n",
      "Episode:     760000/1000000 ---  76.0% --- mean reward:  0.05 --- elapsed:  3.0\n",
      "Episode:     770000/1000000 ---  77.0% --- mean reward:  0.03 --- elapsed:  2.6\n",
      "Episode:     780000/1000000 ---  78.0% --- mean reward:  0.03 --- elapsed:  2.3\n",
      "Episode:     790000/1000000 ---  79.0% --- mean reward:  0.04 --- elapsed:  3.4\n",
      "Episode:     800000/1000000 ---  80.0% --- mean reward:  0.06 --- elapsed:  2.3\n",
      "Episode:     810000/1000000 ---  81.0% --- mean reward:  0.05 --- elapsed:  2.3\n",
      "Episode:     820000/1000000 ---  82.0% --- mean reward:  0.03 --- elapsed:  2.8\n",
      "Episode:     830000/1000000 ---  83.0% --- mean reward:  0.05 --- elapsed:  2.1\n",
      "Episode:     840000/1000000 ---  84.0% --- mean reward:  0.05 --- elapsed:  2.3\n",
      "Episode:     850000/1000000 ---  85.0% --- mean reward:  0.03 --- elapsed:  2.3\n",
      "Episode:     860000/1000000 ---  86.0% --- mean reward:  0.04 --- elapsed:  2.1\n",
      "Episode:     870000/1000000 ---  87.0% --- mean reward:  0.05 --- elapsed:  2.0\n",
      "Episode:     880000/1000000 ---  88.0% --- mean reward:  0.06 --- elapsed:  2.3\n",
      "Episode:     890000/1000000 ---  89.0% --- mean reward:  0.05 --- elapsed:  2.3\n",
      "Episode:     900000/1000000 ---  90.0% --- mean reward:  0.04 --- elapsed:  2.4\n",
      "Episode:     910000/1000000 ---  91.0% --- mean reward:  0.07 --- elapsed:  2.5\n",
      "Episode:     920000/1000000 ---  92.0% --- mean reward:  0.06 --- elapsed:  2.2\n",
      "Episode:     930000/1000000 ---  93.0% --- mean reward:  0.04 --- elapsed:  2.1\n",
      "Episode:     940000/1000000 ---  94.0% --- mean reward:  0.04 --- elapsed:  2.2\n",
      "Episode:     950000/1000000 ---  95.0% --- mean reward:  0.06 --- elapsed:  2.2\n",
      "Episode:     960000/1000000 ---  96.0% --- mean reward:  0.03 --- elapsed:  2.5\n",
      "Episode:     970000/1000000 ---  97.0% --- mean reward:  0.06 --- elapsed:  2.9\n",
      "Episode:     980000/1000000 ---  98.0% --- mean reward:  0.05 --- elapsed:  2.4\n",
      "Episode:     990000/1000000 ---  99.0% --- mean reward:  0.06 --- elapsed:  2.1\n"
     ]
    }
   ],
   "source": [
    "t_start = perf_counter()\n",
    "for i in range(episodes):\n",
    "    \n",
    "    if i % episodes_per_checkpoint == 0:\n",
    "        mean_reward = np.array(rewards).mean() if len(rewards) > 1 else 0\n",
    "        \n",
    "        time_spent =  perf_counter() - t_start\n",
    "        print(f\"Episode: {i:>10}/{episodes} --- {i/episodes*100:>5.1f}% --- mean reward: {mean_reward:>5.2f} --- elapsed: {time_spent:>4.1f}\")\n",
    "        t_start = perf_counter()\n",
    "        \n",
    "        if i > 1:\n",
    "            Vs.append(agent.get_V())\n",
    "    \n",
    "    env.reset()\n",
    "    s = env.get_state()\n",
    "    agent.reset_episode()\n",
    "    \n",
    "    while not s.terminal:\n",
    "\n",
    "        # Take step, first agent using current state, then environment using action\n",
    "        a = agent.step(s)\n",
    "        s, G = env.step(a)\n",
    "        \n",
    "        rewards.append(G)\n",
    "    \n",
    "    agent.optimize(G)"
   ]
  },
  {
   "cell_type": "code",
   "execution_count": 8,
   "id": "37523f4a",
   "metadata": {},
   "outputs": [
    {
     "data": {
      "image/png": "[encoded data removed]",
      "text/plain": [
       "<Figure size 720x360 with 1 Axes>"
      ]
     },
     "metadata": {
      "needs_background": "light"
     },
     "output_type": "display_data"
    }
   ],
   "source": [
    "df_V = agent.get_V()\n",
    "\n",
    "plot_value_function(df_V)"
   ]
  },
  {
   "cell_type": "code",
   "execution_count": null,
   "id": "22589354",
   "metadata": {},
   "outputs": [],
   "source": []
  }
 ],
 "metadata": {
  "kernelspec": {
   "display_name": "rl",
   "language": "python",
   "name": "rl"
  },
  "language_info": {
   "codemirror_mode": {
    "name": "ipython",
    "version": 3
   },
   "file_extension": ".py",
   "mimetype": "text/x-python",
   "name": "python",
   "nbconvert_exporter": "python",
   "pygments_lexer": "ipython3",
   "version": "3.8.12"
  }
 },
 "nbformat": 4,
 "nbformat_minor": 5
}
