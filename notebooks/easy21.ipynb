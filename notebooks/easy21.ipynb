{
 "cells": [
  {
   "cell_type": "code",
   "execution_count": 1,
   "id": "649131e0",
   "metadata": {},
   "outputs": [],
   "source": [
    "%load_ext autoreload\n",
    "%autoreload 2"
   ]
  },
  {
   "cell_type": "code",
   "execution_count": 2,
   "id": "a2bf296e",
   "metadata": {},
   "outputs": [],
   "source": [
    "import numpy as np\n",
    "import pandas as pd\n",
    "import polars as pl\n",
    "\n",
    "from pathlib import Path\n",
    "from functools import partial\n",
    "from copy import copy\n",
    "from typing import List\n",
    "from time import perf_counter\n",
    "from collections import deque, namedtuple"
   ]
  },
  {
   "cell_type": "code",
   "execution_count": 3,
   "id": "5df1e2f1",
   "metadata": {},
   "outputs": [],
   "source": [
    "from environments.easy21 import (\n",
    "    EasyAction, \n",
    "    EasyState, \n",
    "    EasyEnvironment,\n",
    "    DealerAgent, \n",
    "    MCAgent, \n",
    "    TDAgent,\n",
    "    EpsilonGreedyPolicy\n",
    ")\n",
    "\n",
    "from environments.base import Transition\n",
    "from environments.utils import StateActionPair, CountRegistry"
   ]
  },
  {
   "cell_type": "code",
   "execution_count": 4,
   "id": "852e0cb4",
   "metadata": {},
   "outputs": [],
   "source": [
    "import matplotlib\n",
    "import matplotlib.pyplot as plt\n",
    "import matplotlib.animation as animation\n",
    "from mpl_toolkits.mplot3d import Axes3D\n",
    "from matplotlib import cm\n",
    "\n",
    "%matplotlib inline"
   ]
  },
  {
   "cell_type": "code",
   "execution_count": 5,
   "id": "e95abfc1",
   "metadata": {},
   "outputs": [],
   "source": [
    "def plot_value_function(df_V, title=\"Value function\", ax = None):\n",
    "\n",
    "    if ax is None:\n",
    "        fig = plt.figure(figsize=(15, 8))\n",
    "        ax = fig.add_subplot(111, projection='3d')\n",
    "        \n",
    "    ax.set_xlabel(\"Dealer showing\")\n",
    "    ax.set_ylabel(\"Player sum\")\n",
    "    ax.set_zlim([-1, 1])\n",
    "    \n",
    "    # Set title\n",
    "    title = ax.text(2, 21, 1.3, title)\n",
    "    \n",
    "    # Prepare X and Y dimensions\n",
    "    x_linspace = df_V[\"Dealer showing\"]\n",
    "    y_linspace = np.array(df_V.columns[1:], dtype=int)\n",
    "    x, y = np.meshgrid(x_linspace, y_linspace)\n",
    "    z = df_V[:, 1:].to_numpy().transpose()\n",
    "    \n",
    "    # Plot the surface.\n",
    "    surf = ax.plot_surface(x, y, z, \n",
    "                           cmap=cm.coolwarm,\n",
    "                           rstride=1, cstride=1,\n",
    "                           linewidth=0, antialiased=False)\n",
    "    \n",
    "    return surf, title\n",
    "\n",
    "\n",
    "def animate(checkpoints, name):\n",
    "    \n",
    "    # Adjusted from https://github.com/hereismari/easy21/blob/master/easy21.ipynb\n",
    "    \n",
    "    fig = plt.figure(figsize=(15, 8))\n",
    "    ax = fig.add_subplot(111, projection='3d')\n",
    "    \n",
    "    def plot_frame(idx):\n",
    "        \n",
    "        checkpoint = checkpoints[idx]\n",
    "        \n",
    "        ax.clear()\n",
    "        surf, title = plot_value_function(\n",
    "            df_V=checkpoint.V,\n",
    "            ax=ax\n",
    "        )\n",
    "        title.set_text(f\"Frame: {idx} - i: {checkpoint.i} - mean reward: {checkpoint.mean_reward}\")\n",
    "        fig.canvas.draw()\n",
    "        return surf\n",
    "    \n",
    "    ani = animation.FuncAnimation(fig, plot_frame, len(checkpoints), repeat=False, blit=False)\n",
    "    \n",
    "    # Prepare path \n",
    "    p = Path().cwd().parent / \"animations\"\n",
    "    p.mkdir(exist_ok=True)\n",
    "    p = p / f\"{name}.gif\"\n",
    "    \n",
    "    # Save animation\n",
    "    ani.save(p, writer='imagemagick', fps=3)\n",
    "    \n",
    "    plt.show()\n",
    "\n",
    "\n",
    "def print_progress(i, n, time_elapsed, mean_reward):\n",
    "    print(\n",
    "        f\"Episode: {i:>10}/{n} \"\n",
    "        + f\"--- {i/n*100:>5.1f} \"\n",
    "        + f\"--- mean reward: {mean_reward:>5.2f} \"\n",
    "        + f\"--- elapsed: {time_elapsed:>4.1f} seconds\"\n",
    "    )"
   ]
  },
  {
   "cell_type": "markdown",
   "id": "5824f99a",
   "metadata": {},
   "source": [
    "## 2 - Monte-Carlo Control in Easy21"
   ]
  },
  {
   "cell_type": "code",
   "execution_count": 6,
   "id": "d04be175",
   "metadata": {},
   "outputs": [],
   "source": [
    "n_episodes = 1000000\n",
    "n_checkpoints = 20\n",
    "\n",
    "episodes_per_checkpoint = round(n_episodes / n_checkpoints)\n",
    "rewards = deque(maxlen=episodes_per_checkpoint)\n",
    "\n",
    "checkpoint = namedtuple(\"checkpoint\", (\"i\", \"mean_reward\", \"V\"))\n",
    "checkpoints = []\n",
    "\n",
    "env = EasyEnvironment()\n",
    "\n",
    "agent = MCAgent(\n",
    "    policy=EpsilonGreedyPolicy(N_zero=100)\n",
    ")"
   ]
  },
  {
   "cell_type": "code",
   "execution_count": null,
   "id": "c22235d9",
   "metadata": {
    "scrolled": true
   },
   "outputs": [],
   "source": [
    "t_start = perf_counter()\n",
    "\n",
    "for i in range(n_episodes):\n",
    "    \n",
    "    # Checkpoint: print progress and store value function\n",
    "    if i % episodes_per_checkpoint == 0:\n",
    "        \n",
    "        time_elapsed =  perf_counter() - t_start\n",
    "        mean_reward = np.array(rewards).mean() if rewards else 0\n",
    "        print_progress(i, n_episodes, time_elapsed, mean_reward)\n",
    "        t_start = perf_counter()\n",
    "        \n",
    "        if i > 1:\n",
    "            checkpoints.append(checkpoint(i, mean_reward, agent.get_V()))\n",
    "    \n",
    "    # Reset environment and episode transitions\n",
    "    env.reset()\n",
    "    episode: List[Transition] = []\n",
    "    \n",
    "    s = env.get_state()\n",
    "    \n",
    "    while not s.terminal:\n",
    "\n",
    "        # Take step, first agent using current state, then environment using action\n",
    "        a = agent.step(s)\n",
    "        next_s, R = env.step(a)\n",
    "        \n",
    "        # Store rewards and transitions\n",
    "        rewards.append(R)\n",
    "        episode.append(Transition(s, a, next_s, R))\n",
    "        \n",
    "        # Set state to next state\n",
    "        s = copy(next_s)\n",
    "    \n",
    "    agent.optimize(episode)"
   ]
  },
  {
   "cell_type": "code",
   "execution_count": null,
   "id": "37523f4a",
   "metadata": {},
   "outputs": [],
   "source": [
    "df_V = agent.get_V()\n",
    "\n",
    "plot_value_function(df_V)"
   ]
  },
  {
   "cell_type": "code",
   "execution_count": null,
   "id": "e74bb4ac",
   "metadata": {},
   "outputs": [],
   "source": [
    "# animate(checkpoints, \"Easy21_MC_control\")"
   ]
  },
  {
   "cell_type": "markdown",
   "id": "5d827fb5",
   "metadata": {},
   "source": [
    "![Value function surface plot](../animations/Easy21_MC_control.gif)"
   ]
  },
  {
   "cell_type": "markdown",
   "id": "93712f42",
   "metadata": {},
   "source": [
    "## 3 - TD Learning in Easy21"
   ]
  },
  {
   "cell_type": "code",
   "execution_count": 22,
   "id": "79ff46be",
   "metadata": {},
   "outputs": [],
   "source": [
    "n_episodes = 10000\n",
    "n_checkpoints = 10\n",
    "\n",
    "episodes_per_checkpoint = round(n_episodes / n_checkpoints)\n",
    "rewards = deque(maxlen=episodes_per_checkpoint)\n",
    "\n",
    "checkpoint = namedtuple(\"checkpoint\", (\"i\", \"mean_reward\", \"V\"))"
   ]
  },
  {
   "cell_type": "code",
   "execution_count": 33,
   "id": "74237681",
   "metadata": {},
   "outputs": [],
   "source": [
    "checkpoints = []\n",
    "\n",
    "env = EasyEnvironment()\n",
    "\n",
    "agent = TDAgent(\n",
    "    policy=EpsilonGreedyPolicy(N_zero=100),\n",
    "    lmbda=0\n",
    ")"
   ]
  },
  {
   "cell_type": "code",
   "execution_count": 34,
   "id": "111c5b10",
   "metadata": {
    "scrolled": true
   },
   "outputs": [
    {
     "name": "stdout",
     "output_type": "stream",
     "text": [
      "Episode:          0/10000 ---   0.0 --- mean reward:  0.00 --- elapsed:  0.0 seconds\n",
      "Episode:       1000/10000 ---  10.0 --- mean reward:  0.00 --- elapsed:  0.4 seconds\n",
      "Episode:       2000/10000 ---  20.0 --- mean reward:  0.00 --- elapsed:  0.3 seconds\n",
      "Episode:       3000/10000 ---  30.0 --- mean reward:  0.00 --- elapsed:  0.4 seconds\n",
      "Episode:       4000/10000 ---  40.0 --- mean reward:  0.00 --- elapsed:  0.3 seconds\n",
      "Episode:       5000/10000 ---  50.0 --- mean reward:  0.00 --- elapsed:  0.3 seconds\n",
      "Episode:       6000/10000 ---  60.0 --- mean reward:  0.00 --- elapsed:  0.3 seconds\n",
      "Episode:       7000/10000 ---  70.0 --- mean reward:  0.00 --- elapsed:  0.3 seconds\n",
      "Episode:       8000/10000 ---  80.0 --- mean reward:  0.00 --- elapsed:  0.3 seconds\n",
      "Episode:       9000/10000 ---  90.0 --- mean reward:  0.00 --- elapsed:  0.3 seconds\n"
     ]
    }
   ],
   "source": [
    "t_start = perf_counter()\n",
    "\n",
    "for i in range(n_episodes):\n",
    "    \n",
    "    # Checkpoint: print progress and store value function\n",
    "    if i % episodes_per_checkpoint == 0:\n",
    "        \n",
    "        time_elapsed =  perf_counter() - t_start\n",
    "        mean_reward = np.array(rewards).mean() if rewards else 0\n",
    "        print_progress(i, n_episodes, time_elapsed, mean_reward)\n",
    "        t_start = perf_counter()\n",
    "        \n",
    "        if i > 1:\n",
    "            checkpoints.append(checkpoint(i, mean_reward, agent.get_V()))\n",
    "    \n",
    "    # Reset environment and agent\n",
    "    env.reset()\n",
    "    agent.reset_episode()\n",
    "    \n",
    "    s = env.get_state()\n",
    "    a = agent.step(s)\n",
    "    \n",
    "    while not s.terminal:\n",
    "\n",
    "        # Take step, first environment using action, then agent using next state\n",
    "        next_s, R = env.step(a)\n",
    "        \n",
    "        # Optimize Q\n",
    "        a = agent.optimize([Transition(s, a, next_s, R)])\n",
    "        \n",
    "        # Set state, action to next state, next action\n",
    "        s = copy(next_s)"
   ]
  },
  {
   "cell_type": "code",
   "execution_count": 35,
   "id": "3e7e02d3",
   "metadata": {},
   "outputs": [
    {
     "data": {
      "text/plain": [
       "(<mpl_toolkits.mplot3d.art3d.Poly3DCollection at 0x1260038b0>,\n",
       " Text(2, 21, 'Value function'))"
      ]
     },
     "execution_count": 35,
     "metadata": {},
     "output_type": "execute_result"
    },
    {
     "data": {
      "image/png": "[encoded data removed]",
      "text/plain": [
       "<Figure size 1080x576 with 1 Axes>"
      ]
     },
     "metadata": {
      "needs_background": "light"
     },
     "output_type": "display_data"
    }
   ],
   "source": [
    "df_V = agent.get_V()\n",
    "\n",
    "plot_value_function(df_V)"
   ]
  },
  {
   "cell_type": "code",
   "execution_count": null,
   "id": "1102ba5e",
   "metadata": {},
   "outputs": [],
   "source": []
  }
 ],
 "metadata": {
  "kernelspec": {
   "display_name": "rl",
   "language": "python",
   "name": "rl"
  },
  "language_info": {
   "codemirror_mode": {
    "name": "ipython",
    "version": 3
   },
   "file_extension": ".py",
   "mimetype": "text/x-python",
   "name": "python",
   "nbconvert_exporter": "python",
   "pygments_lexer": "ipython3",
   "version": "3.8.12"
  }
 },
 "nbformat": 4,
 "nbformat_minor": 5
}
